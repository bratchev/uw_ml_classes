{
 "cells": [
  {
   "cell_type": "code",
   "execution_count": 10,
   "metadata": {
    "collapsed": false
   },
   "outputs": [
    {
     "name": "stdout",
     "output_type": "stream",
     "text": [
      "2011-07-06 00:50:07,133 ERROR [http-7101-39] (com.netflix.eds.server.NCCPController) {\"esn=NFWII-004-0724DF48-002331A053E0\",\"per=29\",\"netflix.appinfo.countryId=1\",\"source=NCCP2\",\"nccperr=14003\",\"devtypid=272\",\"nccpver=2.8\",\"nccprt=webapiproxy\",\"nccphn=nccp-wii-i-4d151423\",\"apirt=termsearch\",\"socustid=31330691\",\"nccpactid=2\",\"ip=71.33.22.64\",\"nccperrc=.SocketTimeoutException\",\"nccperrstr=WebApiProxyIOException\",\"apiinst=ec2-184-72-65-3.compute-1.amazonaws.com\",\"isoCountryCode=US\",\"acctid=956328790\",\"httperr=200\",\"eccustid=956328790\",\"acctctryid=1\",\"sourceip=10.90.15.46\",\"nccpip=10.90.15.46\",\"clver=1.2buildR63-11733\",\"certver=0\"} WebApiProxy request encountered an IOException:  Read timed out (class java.net.SocketTimeoutException)\n",
      "\n",
      "found ERROR 956328790 IOException\n",
      "2011-07-06 00:50:07,133 INFO [http-7101-39] (com.netflix.eds.server.NCCPController) {\"esn=NFWII-004-0724DF48-002331A053E0\",\"per=29\",\"netflix.appinfo.countryId=1\",\"source=NCCP2\",\"reqtimems=4068\",\"nccperr=14003\",\"devtypid=272\",\"nccpver=2.8\",\"nccprt=webapiproxy\",\"nccphn=nccp-wii-i-4d151423\",\"apirt=termsearch\",\"socustid=31330691\",\"nccpactid=2\",\"ip=71.33.22.64\",\"nccperrc=.SocketTimeoutException\",\"nccperrstr=WebApiProxyIOException\",\"apiinst=ec2-184-72-65-3.compute-1.amazonaws.com\",\"isoCountryCode=US\",\"acctid=956328790\",\"httperr=200\",\"eccustid=956328790\",\"acctctryid=1\",\"respsize=1576\",\"sourceip=10.90.15.46\",\"nccpip=10.90.15.46\",\"clver=1.2buildR63-11733\",\"certver=0\"} Processed request in 4068 ms\n",
      "\n",
      "did not find\n",
      "2011-07-06 00:50:08,133 TEST1 [http-7101-39] (com.netflix.eds.server.NCCPController) {\"esn=NFWII-004-0724DF48-002331A053E0\",\"per=29\",\"netflix.appinfo.countryId=1\",\"source=NCCP2\",\"reqtimems=4068\",\"nccperr=14003\",\"devtypid=272\",\"nccpver=2.8\",\"nccprt=webapiproxy\",\"nccphn=nccp-wii-i-4d151423\",\"apirt=termsearch\",\"socustid=31330691\",\"nccpactid=2\",\"ip=71.33.22.64\",\"nccperrc=.SocketTimeoutException\",\"nccperrstr=WebApiProxyIOException\",\"apiinst=ec2-184-72-65-3.compute-1.amazonaws.com\",\"isoCountryCode=US\",\"acctid=956328790\",\"httperr=200\",\"eccustid=956328790\",\"acctctryid=1\",\"respsize=1576\",\"sourceip=10.90.15.46\",\"nccpip=10.90.15.46\",\"clver=1.2buildR63-11733\",\"certver=0\"} Processed request in 4068 ms\n",
      "\n",
      "did not find\n",
      "2011-07-06 00:50:09,133 TEST2 [http-7101-39] (com.netflix.eds.server.NCCPController) {\"esn=NFWII-004-0724DF48-002331A053E0\",\"per=29\",\"netflix.appinfo.countryId=1\",\"source=NCCP2\",\"reqtimems=4068\",\"nccperr=14003\",\"devtypid=272\",\"nccpver=2.8\",\"nccprt=webapiproxy\",\"nccphn=nccp-wii-i-4d151423\",\"apirt=termsearch\",\"socustid=31330691\",\"nccpactid=2\",\"ip=71.33.22.64\",\"nccperrc=.SocketTimeoutException\",\"nccperrstr=WebApiProxyIOException\",\"apiinst=ec2-184-72-65-3.compute-1.amazonaws.com\",\"isoCountryCode=US\",\"acctid=956328790\",\"httperr=200\",\"eccustid=956328790\",\"acctctryid=1\",\"respsize=1576\",\"sourceip=10.90.15.46\",\"nccpip=10.90.15.46\",\"clver=1.2buildR63-11733\",\"certver=0\"} Processed request in 4068 ms\n",
      "\n",
      "did not find\n",
      "2011-07-06 00:50:10,133 TEST3 [http-7101-39] (com.netflix.eds.server.NCCPController) {\"esn=NFWII-004-0724DF48-002331A053E0\",\"per=29\",\"netflix.appinfo.countryId=1\",\"source=NCCP2\",\"reqtimems=4068\",\"nccperr=14003\",\"devtypid=272\",\"nccpver=2.8\",\"nccprt=webapiproxy\",\"nccphn=nccp-wii-i-4d151423\",\"apirt=termsearch\",\"socustid=31330691\",\"nccpactid=2\",\"ip=71.33.22.64\",\"nccperrc=.SocketTimeoutException\",\"nccperrstr=WebApiProxyIOException\",\"apiinst=ec2-184-72-65-3.compute-1.amazonaws.com\",\"isoCountryCode=US\",\"acctid=956328790\",\"httperr=200\",\"eccustid=956328790\",\"acctctryid=1\",\"respsize=1576\",\"sourceip=10.90.15.46\",\"nccpip=10.90.15.46\",\"clver=1.2buildR63-11733\",\"certver=0\"} Processed request in 4068 ms\n",
      "did not find\n"
     ]
    }
   ],
   "source": [
    "import re\n",
    "f = open('log.txt', 'rU')\n",
    "for line in f:\n",
    "    print line\n",
    "    match = re.search(r'.*(ERROR).*eccustid=(\\d+).*(IOException)', line)\n",
    "    if match:\n",
    "        print 'found', match.group(1), match.group(2), match.group(3)\n",
    "    else:\n",
    "        print 'did not find'\n",
    "    # Match several regex groups and print only interesting info out\n",
    "    \n",
    "f.close()\n"
   ]
  },
  {
   "cell_type": "code",
   "execution_count": 7,
   "metadata": {
    "collapsed": false
   },
   "outputs": [
    {
     "name": "stdout",
     "output_type": "stream",
     "text": [
      "[1, 2, 30, 40, 0]\n"
     ]
    }
   ],
   "source": [
    "# Arrays:\n",
    "l=[1,2,30,40,0]\n",
    "print l"
   ]
  },
  {
   "cell_type": "code",
   "execution_count": 14,
   "metadata": {
    "collapsed": false
   },
   "outputs": [
    {
     "name": "stdout",
     "output_type": "stream",
     "text": [
      "[1, 2, 30, 31, 40, 0]\n"
     ]
    }
   ],
   "source": [
    "# Insert 31 in sorted order\n",
    "n = 31\n",
    "l=[1,2,30,40,0]\n",
    "insert_index = -1\n",
    "length = len(l)\n",
    "for i in range(0,length):\n",
    "    if n <= l[i]:\n",
    "        insert_index = i\n",
    "\n",
    "l.insert(insert_index, n)\n",
    "print l"
   ]
  },
  {
   "cell_type": "code",
   "execution_count": 25,
   "metadata": {
    "collapsed": false
   },
   "outputs": [
    {
     "data": {
      "text/plain": [
       "[0, 1, 2, 3, 4, 5, 6, 30, 30, 40, 48, 49, 80]"
      ]
     },
     "execution_count": 25,
     "metadata": {},
     "output_type": "execute_result"
    }
   ],
   "source": [
    "# merge two sorted arrays in sorted order into a new array\n",
    "\n",
    "l1=[1,2,30,40,80]\n",
    "l2=[0,3,4,5,6,30,48,49]\n",
    "sorted(l1 + l2)"
   ]
  },
  {
   "cell_type": "code",
   "execution_count": 18,
   "metadata": {
    "collapsed": false
   },
   "outputs": [
    {
     "name": "stdout",
     "output_type": "stream",
     "text": [
      "1 2\n",
      "3 6\n",
      "4 7\n"
     ]
    }
   ],
   "source": [
    "# find all element pairs of an array that add up to k--all elements are unique\n",
    "l=[0,3,4,5,6,30,2,1]\n",
    "\n",
    "k = 7\n",
    "\n",
    "for i in range(0,len(l)):\n",
    "    if l[i] > k:\n",
    "        continue\n",
    "    for j in range(i,len(l)):\n",
    "        if i == j:\n",
    "            continue\n",
    "        if l[i] + l[j] == k:\n",
    "            print i,j\n"
   ]
  },
  {
   "cell_type": "code",
   "execution_count": 35,
   "metadata": {
    "collapsed": false
   },
   "outputs": [],
   "source": [
    "# check if all elements in a string are unique:\n",
    "s = 'abcdefgh'\n",
    "s = sorted(s)\n",
    "for i in range(0, len(s)-1):\n",
    "    if s[i] == s[i+1]:\n",
    "        print 'False'\n"
   ]
  },
  {
   "cell_type": "code",
   "execution_count": 51,
   "metadata": {
    "collapsed": false
   },
   "outputs": [
    {
     "data": {
      "text/plain": [
       "'false'"
      ]
     },
     "execution_count": 51,
     "metadata": {},
     "output_type": "execute_result"
    }
   ],
   "source": [
    "# given 2 strings check if one is a permutation of the other:\n",
    "s1 = 'dck'\n",
    "s2 = 'cde'\n",
    "\n",
    "def check_perm(s1,s2):\n",
    "    if len(s1) != len(s2): \n",
    "        return \"false\"\n",
    "    # put strings into hash tables and then check if the keys are the same\n",
    "    h1 = {}\n",
    "    h2 = {}\n",
    "    for i in range(0, len(s1)):\n",
    "        if s1[i] in h1.keys():\n",
    "            h1[s1[i]] += 1\n",
    "        else:\n",
    "            h1[s1[i]] = 1\n",
    "        \n",
    "        if s2[i] in h2.keys():\n",
    "            h2[s2[i]] += 1\n",
    "        else:\n",
    "            h2[s2[i]] = 1\n",
    "    if set(h1.keys()) == set(h2.keys()):\n",
    "        return 'true'\n",
    "    else:\n",
    "        return 'false'\n",
    "\n",
    "check_perm(s1,s2)"
   ]
  },
  {
   "cell_type": "code",
   "execution_count": 65,
   "metadata": {
    "collapsed": false
   },
   "outputs": [
    {
     "name": "stdout",
     "output_type": "stream",
     "text": [
      "{'a': 4, 'b': 1}\n"
     ]
    },
    {
     "data": {
      "text/plain": [
       "'true'"
      ]
     },
     "execution_count": 65,
     "metadata": {},
     "output_type": "execute_result"
    }
   ],
   "source": [
    "# Given a string, check if any of its permutations are a palindrome\n",
    "# given 2 strings check if one is a permutation of the other:\n",
    "s = 'aaaba'\n",
    "\n",
    "\n",
    "def check_pali(s):\n",
    "    s = s.lower()\n",
    "    s = s.replace(\" \", \"\")\n",
    "    h = {}\n",
    "    \n",
    "    for i in range(0, len(s)):\n",
    "        if s[i] in h.keys():\n",
    "            h[s[i]] += 1\n",
    "        else:\n",
    "            h[s[i]] = 1\n",
    "    print h\n",
    "    # having either 1 or 0 odd counts makes the answer true\n",
    "    num_odd = 0\n",
    "    for key,value in h.iteritems():\n",
    "        if value % 2 != 0:\n",
    "            num_odd += 1\n",
    "    if num_odd >1:\n",
    "        return 'false'\n",
    "    return 'true'\n",
    "\n",
    "check_pali(s)"
   ]
  },
  {
   "cell_type": "code",
   "execution_count": 74,
   "metadata": {
    "collapsed": false
   },
   "outputs": [
    {
     "name": "stdout",
     "output_type": "stream",
     "text": [
      "0\n"
     ]
    },
    {
     "data": {
      "text/plain": [
       "'true'"
      ]
     },
     "execution_count": 74,
     "metadata": {},
     "output_type": "execute_result"
    }
   ],
   "source": [
    "# if you can only insert once remove once or replace once are the two strings one away?\n",
    "s1 = 'plebian'\n",
    "s2 = 'plebiac'\n",
    "\n",
    "\n",
    "def check_one_away(s1,s2):\n",
    "    print abs(len(s1) - len(s2))\n",
    "    if abs(len(s1) - len(s2)) > 1:\n",
    "        return 'false'\n",
    "    \n",
    "    if len(s1) == len(s2):\n",
    "        num_missing = 0\n",
    "        for i in range(0, len(s1)):\n",
    "            if s1[i] != s2[i]:\n",
    "                num_missing +=1\n",
    "        if num_missing > 1:\n",
    "            return 'false'\n",
    "        else:\n",
    "            return 'true'\n",
    "   \n",
    "    if len(s1) >= len(s2):\n",
    "        for i in range(0, len(s1)):\n",
    "            w = s1[:i] + s1[(i+1):]\n",
    "            print w\n",
    "            if w == s2:\n",
    "                return 'true'\n",
    "\n",
    "    if len(s2) >= len(s1):\n",
    "        for i in range(0, len(s2)):\n",
    "            w = s2[:i] + s2[(i+1):]\n",
    "            print w\n",
    "            if w == s1:\n",
    "                return 'true'\n",
    "            \n",
    "    return 'false'\n",
    "\n",
    "check_one_away(s1,s2)"
   ]
  },
  {
   "cell_type": "code",
   "execution_count": null,
   "metadata": {
    "collapsed": true
   },
   "outputs": [],
   "source": []
  }
 ],
 "metadata": {
  "kernelspec": {
   "display_name": "Python 2",
   "language": "python",
   "name": "python2"
  },
  "language_info": {
   "codemirror_mode": {
    "name": "ipython",
    "version": 2
   },
   "file_extension": ".py",
   "mimetype": "text/x-python",
   "name": "python",
   "nbconvert_exporter": "python",
   "pygments_lexer": "ipython2",
   "version": "2.7.9"
  }
 },
 "nbformat": 4,
 "nbformat_minor": 0
}
